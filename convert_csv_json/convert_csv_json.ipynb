{
 "cells": [
  {
   "cell_type": "code",
   "execution_count": 1,
   "metadata": {},
   "outputs": [],
   "source": [
    "import pandas as pd\n",
    "import re\n",
    "import os\n",
    "import json\n",
    "import glob"
   ]
  },
  {
   "cell_type": "code",
   "execution_count": 2,
   "metadata": {},
   "outputs": [],
   "source": [
    "def get_column_names(schemas, ds_name):\n",
    "    column_details = schemas[ds_name]\n",
    "\n",
    "    return [col['column_name'] for col in column_details]"
   ]
  },
  {
   "cell_type": "code",
   "execution_count": 8,
   "metadata": {},
   "outputs": [],
   "source": [
    "def read_csv(file, schemas):\n",
    "    file_path_list = re.split(r'[/\\\\\\]', file)\n",
    "    ds_name = file_path_list[-2]\n",
    "\n",
    "    print(ds)\n",
    "    # columns = get_column_names(schemas, ds_name)\n",
    "    # df = pd.read_csv(file, name=columns)\n",
    "\n",
    "    # return df"
   ]
  },
  {
   "cell_type": "code",
   "execution_count": 10,
   "metadata": {},
   "outputs": [
    {
     "data": {
      "text/plain": [
       "['data', 'retail_db', 'departments', 'part-00000']"
      ]
     },
     "execution_count": 10,
     "metadata": {},
     "output_type": "execute_result"
    }
   ],
   "source": [
    "file_path_list = re.split(r'[/\\\\]', 'data/retail_db/departments\\\\part-00000')\n",
    "file_path_list"
   ]
  }
 ],
 "metadata": {
  "kernelspec": {
   "display_name": "env",
   "language": "python",
   "name": "python3"
  },
  "language_info": {
   "codemirror_mode": {
    "name": "ipython",
    "version": 3
   },
   "file_extension": ".py",
   "mimetype": "text/x-python",
   "name": "python",
   "nbconvert_exporter": "python",
   "pygments_lexer": "ipython3",
   "version": "3.12.0"
  }
 },
 "nbformat": 4,
 "nbformat_minor": 2
}
